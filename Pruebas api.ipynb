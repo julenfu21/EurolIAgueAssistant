{
 "cells": [
  {
   "cell_type": "code",
   "execution_count": 99,
   "metadata": {},
   "outputs": [],
   "source": [
    "from euroleague_api.EuroLeagueData import EuroLeagueData\n",
    "import math\n",
    "\n",
    "season = 2000\n",
    "game_code = 20\n",
    "competition_code = \"E\"\n",
    "\n",
    "standings = EuroLeagueData(competition_code)\n",
    "df = standings.get_game_metadata_season(season)\n",
    "\n",
    "max_round = df['round']"
   ]
  },
  {
   "cell_type": "code",
   "execution_count": 97,
   "metadata": {},
   "outputs": [
    {
     "data": {
      "text/plain": [
       "24"
      ]
     },
     "execution_count": 97,
     "metadata": {},
     "output_type": "execute_result"
    }
   ],
   "source": [
    "len(df['hometeam'].unique())"
   ]
  },
  {
   "cell_type": "code",
   "execution_count": 90,
   "metadata": {},
   "outputs": [
    {
     "data": {
      "text/plain": [
       "120"
      ]
     },
     "execution_count": 90,
     "metadata": {},
     "output_type": "execute_result"
    }
   ],
   "source": [
    "num = 0\n",
    "for elem in max_round:\n",
    "    if elem == \"RS\":\n",
    "        num += 1\n",
    "num"
   ]
  },
  {
   "cell_type": "code",
   "execution_count": 98,
   "metadata": {},
   "outputs": [
    {
     "data": {
      "text/plain": [
       "22"
      ]
     },
     "execution_count": 98,
     "metadata": {},
     "output_type": "execute_result"
    }
   ],
   "source": [
    "games = math.sqrt(num+1)\n",
    "games = 2*int(games)\n",
    "games"
   ]
  },
  {
   "cell_type": "code",
   "execution_count": 2,
   "metadata": {},
   "outputs": [
    {
     "name": "stderr",
     "output_type": "stream",
     "text": [
      "c:\\Users\\Usuario\\anaconda3\\envs\\rasapi\\lib\\site-packages\\tqdm\\auto.py:21: TqdmWarning: IProgress not found. Please update jupyter and ipywidgets. See https://ipywidgets.readthedocs.io/en/stable/user_install.html\n",
      "  from .autonotebook import tqdm as notebook_tqdm\n"
     ]
    }
   ],
   "source": [
    "from euroleague_api.team_stats import TeamStats\n",
    "\n",
    "season = 2021\n",
    "game_code = 34\n",
    "competition_code = \"E\"\n",
    "\n",
    "standings = TeamStats(competition_code)\n",
    "df = standings.get_team_stats_all_seasons(\"opponentsTraditional\")\n",
    "\n",
    "# max_round = df['round']"
   ]
  },
  {
   "cell_type": "code",
   "execution_count": 120,
   "metadata": {},
   "outputs": [],
   "source": [
    "df2 = df[['position', 'gamesWon', 'gamesLost', 'club.name']].copy()"
   ]
  },
  {
   "cell_type": "code",
   "execution_count": 9,
   "metadata": {},
   "outputs": [
    {
     "data": {
      "text/plain": [
       "'                       KK Buducnost\\n                        ALBA Berlin\\n                          BC Khimki\\n            LDLC ASVEL Villeurbanne\\n              Darussafaka Basketbol\\n                   FC Bayern Munich\\n Crvena Zvezda Meridianbet Belgrade\\n            Galatasaray Spor Kulubu\\n                    Valencia Basket\\n          Bamberger Basketball GmbH\\n                          KK Cibona\\n           EA7 Emporio Armani Milan\\n      Elan Bearnais Pau-Lacq-Orthez\\n                    Zalgiris Kaunas\\n                        Arka Gdynia\\n                Skyliners Frankfurt\\n                          AS Monaco\\n          Pallacanestro Virtus Roma\\n           Virtus Segafredo Bologna\\n          Maccabi Playtika Tel Aviv\\n      Partizan Mozzart Bet Belgrade\\nFortitudo Pallacanestro Bologna 103\\n                Zenit St Petersburg\\n           Fenerbahce Beko Istanbul\\n           Baskonia Vitoria-Gasteiz\\n                      Rytas Vilnius\\n                  WKS Slask Wroclaw\\n              Anadolu Efes Istanbul\\n               KK Cedevita Olimpija\\n                        UNICS Kazan\\n                         AEK Athens\\n         Panathinaikos AKTOR Athens\\n                  Montepaschi Siena\\n                 Olympiacos Piraeus\\n            Benetton Basket Treviso\\n                     Unicaja Malaga\\n                        Real Madrid\\n                       FC Barcelona\\n                        CSKA Moscow'"
      ]
     },
     "execution_count": 9,
     "metadata": {},
     "output_type": "execute_result"
    }
   ],
   "source": [
    "df['team.name'].to_string(index=False)"
   ]
  },
  {
   "cell_type": "code",
   "execution_count": 11,
   "metadata": {},
   "outputs": [
    {
     "data": {
      "text/plain": [
       "['teamRanking',\n",
       " 'gamesPlayed',\n",
       " 'minutesPlayed',\n",
       " 'pointsScored',\n",
       " 'twoPointersMade',\n",
       " 'twoPointersAttempted',\n",
       " 'twoPointersPercentage',\n",
       " 'threePointersMade',\n",
       " 'threePointersAttempted',\n",
       " 'threePointersPercentage',\n",
       " 'freeThrowsMade',\n",
       " 'freeThrowsAttempted',\n",
       " 'freeThrowsPercentage',\n",
       " 'offensiveRebounds',\n",
       " 'defensiveRebounds',\n",
       " 'totalRebounds',\n",
       " 'assists',\n",
       " 'steals',\n",
       " 'turnovers',\n",
       " 'blocks',\n",
       " 'blocksAgainst',\n",
       " 'foulsCommited',\n",
       " 'foulsDrawn',\n",
       " 'pir',\n",
       " 'team.code',\n",
       " 'team.tvCodes',\n",
       " 'team.name',\n",
       " 'team.imageUrl']"
      ]
     },
     "execution_count": 11,
     "metadata": {},
     "output_type": "execute_result"
    }
   ],
   "source": [
    "list(df)"
   ]
  }
 ],
 "metadata": {
  "kernelspec": {
   "display_name": "rasapi",
   "language": "python",
   "name": "python3"
  },
  "language_info": {
   "codemirror_mode": {
    "name": "ipython",
    "version": 3
   },
   "file_extension": ".py",
   "mimetype": "text/x-python",
   "name": "python",
   "nbconvert_exporter": "python",
   "pygments_lexer": "ipython3",
   "version": "3.10.14"
  }
 },
 "nbformat": 4,
 "nbformat_minor": 2
}
